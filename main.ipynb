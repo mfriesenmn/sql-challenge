{
 "cells": [
  {
   "cell_type": "code",
   "execution_count": null,
   "metadata": {},
   "outputs": [],
   "source": [
    "import pandas as pd\n",
    "import matplotlib.pyplot as plt\n",
    "import numpy as np\n",
    "from sqlalchemy.ext.automap import automap_base\n",
    "from config import (user, password, host, port, database)"
   ]
  },
  {
   "cell_type": "code",
   "execution_count": null,
   "metadata": {},
   "outputs": [],
   "source": [
    "from sqlalchemy import create_engine\n",
    "engine = create_engine(f'postgresql://{user}:{password}@{host}:{port}/{database}')\n",
    "conn = engine.connect()"
   ]
  },
  {
   "cell_type": "code",
   "execution_count": null,
   "metadata": {},
   "outputs": [],
   "source": [
    "base = automap_base()\n",
    "base.prepare(engine, reflect=True)\n",
    "base.classes.keys()"
   ]
  },
  {
   "cell_type": "code",
   "execution_count": null,
   "metadata": {},
   "outputs": [],
   "source": [
    "#1. List the following details of each employee: employee number, last name, first name, sex, and salary.\n",
    "employeespd = pd.read_sql('select employees.first_name, employees.last_name, employees.sex, salaries.salary from employees inner join salaries on employees.emp_no=salaries.emp_no', conn)\n",
    "employeespd"
   ]
  },
  {
   "cell_type": "code",
   "execution_count": null,
   "metadata": {},
   "outputs": [],
   "source": [
    "#2. List first name, last name, and hire date for employees who were hired in 1986.\n",
    "employees1986 = pd.read_sql(\"select first_name, last_name, hire_date from employees where hire_date >= '1986-01-01 00:00:00' and hire_date < '1987-01-01 00:00:00' \", conn)\n",
    "employees1986"
   ]
  },
  {
   "cell_type": "code",
   "execution_count": null,
   "metadata": {},
   "outputs": [],
   "source": [
    "#3. List the manager of each department with the following information: department number, department name, the manager's employee number, last name, first name.\n",
    "deptmanagers = pd.read_sql(\"select departments.dept_no, departments.dept_name, employees.emp_no, employees.first_name, employees.last_name from dept_manager inner join departments on departments.dept_no=dept_manager.dept_no inner join employees on dept_manager.emp_no = employees.emp_no\", conn)\n",
    "deptmanagers"
   ]
  },
  {
   "cell_type": "code",
   "execution_count": null,
   "metadata": {},
   "outputs": [],
   "source": [
    "#4. List the department of each employee with the following information: employee number, last name, first name, and department name.\n",
    "emp_depts = pd.read_sql(\"select employees.emp_no, employees.last_name, employees.first_name, employees.first_name, departments.dept_name from employees inner join dept_emp on employees.emp_no=dept_emp.emp_no inner join departments on dept_emp.dept_no=departments.dept_no\", conn)\n",
    "emp_depts"
   ]
  },
  {
   "cell_type": "code",
   "execution_count": null,
   "metadata": {},
   "outputs": [],
   "source": [
    "#5. List first name, last name, and sex for employees whose first name is \"Hercules\" and last names begin with \"B.\"\n",
    "bercules = pd.read_sql(\"select first_name, last_name, sex from employees where first_name='Hercules' and last_name like 'B%%'\", conn)\n",
    "bercules"
   ]
  },
  {
   "cell_type": "code",
   "execution_count": null,
   "metadata": {},
   "outputs": [],
   "source": [
    "#6. List all employees in the Sales department, including their employee number, last name, first name, and department name.\n",
    "sales_emps = pd.read_sql(\"select employees.emp_no, employees.last_name, employees.last_name, departments.dept_name from employees inner join dept_emp on dept_emp.emp_no=employees.emp_no inner join departments on departments.dept_no=dept_emp.dept_no where departments.dept_name like 'Sales' \",conn)\n",
    "sales_emps"
   ]
  },
  {
   "cell_type": "code",
   "execution_count": null,
   "metadata": {},
   "outputs": [],
   "source": [
    "#7. List all employees in the Sales and Development departments, including their employee number, last name, first name, and department name.\n",
    "salesndev_emps = pd.read_sql(\"select employees.emp_no, employees.last_name, employees.last_name, departments.dept_name from employees inner join dept_emp on dept_emp.emp_no=employees.emp_no inner join departments on departments.dept_no=dept_emp.dept_no where departments.dept_name like 'Sales' or departments.dept_name like 'Development' \",conn)\n",
    "salesndev_emps"
   ]
  },
  {
   "cell_type": "code",
   "execution_count": null,
   "metadata": {},
   "outputs": [],
   "source": [
    "#8. In descending order, list the frequency count of employee last names, i.e., how many employees share each last name.\n",
    "lastnamecount = pd.read_sql('select last_name, COUNT(*) from employees group by last_name order by count desc', conn)\n",
    "lastnamecount"
   ]
  },
  {
   "cell_type": "code",
   "execution_count": null,
   "metadata": {},
   "outputs": [],
   "source": []
  }
 ],
 "metadata": {
  "kernelspec": {
   "display_name": "Python 3",
   "language": "python",
   "name": "python3"
  },
  "language_info": {
   "codemirror_mode": {
    "name": "ipython",
    "version": 3
   },
   "file_extension": ".py",
   "mimetype": "text/x-python",
   "name": "python",
   "nbconvert_exporter": "python",
   "pygments_lexer": "ipython3",
   "version": "3.6.10"
  }
 },
 "nbformat": 4,
 "nbformat_minor": 4
}
